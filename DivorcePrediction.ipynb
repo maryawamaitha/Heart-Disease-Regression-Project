{
  "nbformat": 4,
  "nbformat_minor": 0,
  "metadata": {
    "colab": {
      "name": "DivorcePrediction.ipynb",
      "provenance": [],
      "authorship_tag": "ABX9TyPNUKHwtz+iljm3fouesizT",
      "include_colab_link": true
    },
    "kernelspec": {
      "name": "python3",
      "display_name": "Python 3"
    },
    "language_info": {
      "name": "python"
    }
  },
  "cells": [
    {
      "cell_type": "markdown",
      "metadata": {
        "id": "view-in-github",
        "colab_type": "text"
      },
      "source": [
        "<a href=\"https://colab.research.google.com/github/maryawamaitha/MaryaData_Science-Projects-Portfolio/blob/main/DivorcePrediction.ipynb\" target=\"_parent\"><img src=\"https://colab.research.google.com/assets/colab-badge.svg\" alt=\"Open In Colab\"/></a>"
      ]
    },
    {
      "cell_type": "markdown",
      "source": [
        "Questions are ranked on a scale of 1-5 with 1 being the lowest and 5 being the highest. The last category states if the couple has divorced.\n",
        "\n",
        "1.\tIf one of us apologizes when our discussion deteriorates, the discussion ends.\n",
        "2.\tI know we can ignore our differences, even if things get hard sometimes.\n",
        "3.\tWhen we need it, we can take our discussions with my spouse from the beginning and correct it.\n",
        "4.\tWhen I discuss with my spouse, to contact him will eventually work.\n",
        "5.\tThe time I spent with my wife is special for us.\n",
        "6.\tWe don't have time at home as partners.\n",
        "7.\tWe are like two strangers who share the same environment at home rather than family.\n",
        "8.\tI enjoy our holidays with my wife.\n",
        "9.\tI enjoy traveling with my wife.\n",
        "10.\tMost of our goals are common to my spouse.\n",
        "11.\tI think that one day in the future, when I look back, I see that my spouse and I have been in harmony with each other.\n",
        "12.\tMy spouse and I have similar values in terms of personal freedom.\n",
        "13.\tMy spouse and I have similar sense of entertainment.\n",
        "14.\tMost of our goals for people (children, friends, etc.) are the same.\n",
        "15.\tOur dreams with my spouse are similar and harmonious.\n",
        "16.\tWe're compatible with my spouse about what love should be.\n",
        "17.\tWe share the same views about being happy in our life with my spouse\n",
        "18.\tMy spouse and I have similar ideas about how marriage should be\n",
        "19.\tMy spouse and I have similar ideas about how roles should be in marriage\n",
        "20.\tMy spouse and I have similar values in trust.\n",
        "21.\tI know exactly what my wife likes.\n",
        "22.\tI know how my spouse wants to be taken care of when she/he sick.\n",
        "23.\tI know my spouse's favorite food.\n",
        "24.\tI can tell you what kind of stress my spouse is facing in her/his life.\n",
        "25.\tI have knowledge of my spouse's inner world.\n",
        "26.\tI know my spouse's basic anxieties.\n",
        "27.\tI know what my spouse's current sources of stress are.\n",
        "28.\tI know my spouse's hopes and wishes.\n",
        "29.\tI know my spouse very well.\n",
        "30.\tI know my spouse's friends and their social relationships.\n",
        "31.\tI feel aggressive when I argue with my spouse.\n",
        "32.\tWhen discussing with my spouse, I usually use expressions such as ‘you always’ or ‘you never’ .\n",
        "33.\tI can use negative statements about my spouse's personality during our discussions.\n",
        "34.\tI can use offensive expressions during our discussions.\n",
        "35.\tI can insult my spouse during our discussions.\n",
        "36.\tI can be humiliating when we discussions.\n",
        "37.\tMy discussion with my spouse is not calm.\n",
        "38.\tI hate my spouse's way of open a subject.\n",
        "39.\tOur discussions often occur suddenly.\n",
        "40.\tWe're just starting a discussion before I know what's going on.\n",
        "41.\tWhen I talk to my spouse about something, my calm suddenly breaks.\n",
        "42.\tWhen I argue with my spouse, ı only go out and I don't say a word.\n",
        "43.\tI mostly stay silent to calm the environment a little bit.\n",
        "44.\tSometimes I think it's good for me to leave home for a while.\n",
        "45.\tI'd rather stay silent than discuss with my spouse.\n",
        "46.\tEven if I'm right in the discussion, I stay silent to hurt my spouse.\n",
        "47.\tWhen I discuss with my spouse, I stay silent because I am afraid of not being able to control my anger.\n",
        "48.\tI feel right in our discussions.\n",
        "49.\tI have nothing to do with what I've been accused of.\n",
        "50.\tI'm not actually the one who's guilty about what I'm accused of.\n",
        "51.\tI'm not the one who's wrong about problems at home.\n",
        "52.\tI wouldn't hesitate to tell my spouse about her/his inadequacy.\n",
        "53.\tWhen I discuss, I remind my spouse of her/his inadequacy.\n",
        "54.\tI'm not afraid to tell my spouse about her/his incompetence.\n",
        "55. \tDivorce Y/N\n"
      ],
      "metadata": {
        "id": "6FnymRP4Rnee"
      }
    },
    {
      "cell_type": "code",
      "execution_count": 19,
      "metadata": {
        "id": "uPp4ldxAEA37"
      },
      "outputs": [],
      "source": [
        "import pandas as pd\n",
        "import seaborn as sns\n",
        "import matplotlib.pyplot as plt\n",
        "from sklearn.model_selection import train_test_split\n",
        "from sklearn.preprocessing import StandardScaler\n",
        "from sklearn.pipeline import make_pipeline\n",
        "# from sklearn.compose import make_column_transformer, make_column_selector\n",
        "# from sklearn.impute import SimpleImputer\n",
        "from sklearn.metrics import ConfusionMatrixDisplay\n",
        "from sklearn.metrics import accuracy_score,classification_report, confusion_matrix\n",
        "from sklearn import metrics\n",
        "from sklearn.model_selection import GridSearchCV\n"
      ]
    },
    {
      "cell_type": "code",
      "source": [
        "df=pd.read_csv('/content/divorce.csv')\n",
        "df.head()"
      ],
      "metadata": {
        "colab": {
          "base_uri": "https://localhost:8080/",
          "height": 299
        },
        "id": "Yw5eGL5EEdDQ",
        "outputId": "c493c90f-aab7-4cff-ff88-f6c4a8dd4153"
      },
      "execution_count": 2,
      "outputs": [
        {
          "output_type": "execute_result",
          "data": {
            "text/plain": [
              "   Sorry_end  Ignore_diff  begin_correct  Contact  Special_time  No_home_time  \\\n",
              "0          2            2              4        1             0             0   \n",
              "1          4            4              4        4             4             0   \n",
              "2          2            2              2        2             1             3   \n",
              "3          3            2              3        2             3             3   \n",
              "4          2            2              1        1             1             1   \n",
              "\n",
              "   2_strangers  enjoy_holiday  enjoy_travel  common_goals  ...  \\\n",
              "0            0              0             0             0  ...   \n",
              "1            0              4             4             4  ...   \n",
              "2            2              1             1             2  ...   \n",
              "3            3              3             3             3  ...   \n",
              "4            0              0             0             0  ...   \n",
              "\n",
              "   silence_for_harm  silence_fear_anger  I'm_right  accusations  \\\n",
              "0                 2                   1          3            3   \n",
              "1                 2                   2          3            4   \n",
              "2                 3                   2          3            1   \n",
              "3                 2                   2          3            3   \n",
              "4                 2                   1          2            3   \n",
              "\n",
              "   I'm_not_guilty  I'm_not_wrong  no_hesitancy_inadequate  you're_inadequate  \\\n",
              "0               3              2                        3                  2   \n",
              "1               4              4                        4                  2   \n",
              "2               1              1                        2                  2   \n",
              "3               3              3                        2                  2   \n",
              "4               2              2                        2                  1   \n",
              "\n",
              "   incompetence  Divorce_Y_N  \n",
              "0             1            1  \n",
              "1             2            1  \n",
              "2             2            1  \n",
              "3             2            1  \n",
              "4             0            1  \n",
              "\n",
              "[5 rows x 55 columns]"
            ],
            "text/html": [
              "\n",
              "  <div id=\"df-a2638c3d-9ae3-446f-8dcb-efcaf8b75c76\">\n",
              "    <div class=\"colab-df-container\">\n",
              "      <div>\n",
              "<style scoped>\n",
              "    .dataframe tbody tr th:only-of-type {\n",
              "        vertical-align: middle;\n",
              "    }\n",
              "\n",
              "    .dataframe tbody tr th {\n",
              "        vertical-align: top;\n",
              "    }\n",
              "\n",
              "    .dataframe thead th {\n",
              "        text-align: right;\n",
              "    }\n",
              "</style>\n",
              "<table border=\"1\" class=\"dataframe\">\n",
              "  <thead>\n",
              "    <tr style=\"text-align: right;\">\n",
              "      <th></th>\n",
              "      <th>Sorry_end</th>\n",
              "      <th>Ignore_diff</th>\n",
              "      <th>begin_correct</th>\n",
              "      <th>Contact</th>\n",
              "      <th>Special_time</th>\n",
              "      <th>No_home_time</th>\n",
              "      <th>2_strangers</th>\n",
              "      <th>enjoy_holiday</th>\n",
              "      <th>enjoy_travel</th>\n",
              "      <th>common_goals</th>\n",
              "      <th>...</th>\n",
              "      <th>silence_for_harm</th>\n",
              "      <th>silence_fear_anger</th>\n",
              "      <th>I'm_right</th>\n",
              "      <th>accusations</th>\n",
              "      <th>I'm_not_guilty</th>\n",
              "      <th>I'm_not_wrong</th>\n",
              "      <th>no_hesitancy_inadequate</th>\n",
              "      <th>you're_inadequate</th>\n",
              "      <th>incompetence</th>\n",
              "      <th>Divorce_Y_N</th>\n",
              "    </tr>\n",
              "  </thead>\n",
              "  <tbody>\n",
              "    <tr>\n",
              "      <th>0</th>\n",
              "      <td>2</td>\n",
              "      <td>2</td>\n",
              "      <td>4</td>\n",
              "      <td>1</td>\n",
              "      <td>0</td>\n",
              "      <td>0</td>\n",
              "      <td>0</td>\n",
              "      <td>0</td>\n",
              "      <td>0</td>\n",
              "      <td>0</td>\n",
              "      <td>...</td>\n",
              "      <td>2</td>\n",
              "      <td>1</td>\n",
              "      <td>3</td>\n",
              "      <td>3</td>\n",
              "      <td>3</td>\n",
              "      <td>2</td>\n",
              "      <td>3</td>\n",
              "      <td>2</td>\n",
              "      <td>1</td>\n",
              "      <td>1</td>\n",
              "    </tr>\n",
              "    <tr>\n",
              "      <th>1</th>\n",
              "      <td>4</td>\n",
              "      <td>4</td>\n",
              "      <td>4</td>\n",
              "      <td>4</td>\n",
              "      <td>4</td>\n",
              "      <td>0</td>\n",
              "      <td>0</td>\n",
              "      <td>4</td>\n",
              "      <td>4</td>\n",
              "      <td>4</td>\n",
              "      <td>...</td>\n",
              "      <td>2</td>\n",
              "      <td>2</td>\n",
              "      <td>3</td>\n",
              "      <td>4</td>\n",
              "      <td>4</td>\n",
              "      <td>4</td>\n",
              "      <td>4</td>\n",
              "      <td>2</td>\n",
              "      <td>2</td>\n",
              "      <td>1</td>\n",
              "    </tr>\n",
              "    <tr>\n",
              "      <th>2</th>\n",
              "      <td>2</td>\n",
              "      <td>2</td>\n",
              "      <td>2</td>\n",
              "      <td>2</td>\n",
              "      <td>1</td>\n",
              "      <td>3</td>\n",
              "      <td>2</td>\n",
              "      <td>1</td>\n",
              "      <td>1</td>\n",
              "      <td>2</td>\n",
              "      <td>...</td>\n",
              "      <td>3</td>\n",
              "      <td>2</td>\n",
              "      <td>3</td>\n",
              "      <td>1</td>\n",
              "      <td>1</td>\n",
              "      <td>1</td>\n",
              "      <td>2</td>\n",
              "      <td>2</td>\n",
              "      <td>2</td>\n",
              "      <td>1</td>\n",
              "    </tr>\n",
              "    <tr>\n",
              "      <th>3</th>\n",
              "      <td>3</td>\n",
              "      <td>2</td>\n",
              "      <td>3</td>\n",
              "      <td>2</td>\n",
              "      <td>3</td>\n",
              "      <td>3</td>\n",
              "      <td>3</td>\n",
              "      <td>3</td>\n",
              "      <td>3</td>\n",
              "      <td>3</td>\n",
              "      <td>...</td>\n",
              "      <td>2</td>\n",
              "      <td>2</td>\n",
              "      <td>3</td>\n",
              "      <td>3</td>\n",
              "      <td>3</td>\n",
              "      <td>3</td>\n",
              "      <td>2</td>\n",
              "      <td>2</td>\n",
              "      <td>2</td>\n",
              "      <td>1</td>\n",
              "    </tr>\n",
              "    <tr>\n",
              "      <th>4</th>\n",
              "      <td>2</td>\n",
              "      <td>2</td>\n",
              "      <td>1</td>\n",
              "      <td>1</td>\n",
              "      <td>1</td>\n",
              "      <td>1</td>\n",
              "      <td>0</td>\n",
              "      <td>0</td>\n",
              "      <td>0</td>\n",
              "      <td>0</td>\n",
              "      <td>...</td>\n",
              "      <td>2</td>\n",
              "      <td>1</td>\n",
              "      <td>2</td>\n",
              "      <td>3</td>\n",
              "      <td>2</td>\n",
              "      <td>2</td>\n",
              "      <td>2</td>\n",
              "      <td>1</td>\n",
              "      <td>0</td>\n",
              "      <td>1</td>\n",
              "    </tr>\n",
              "  </tbody>\n",
              "</table>\n",
              "<p>5 rows × 55 columns</p>\n",
              "</div>\n",
              "      <button class=\"colab-df-convert\" onclick=\"convertToInteractive('df-a2638c3d-9ae3-446f-8dcb-efcaf8b75c76')\"\n",
              "              title=\"Convert this dataframe to an interactive table.\"\n",
              "              style=\"display:none;\">\n",
              "        \n",
              "  <svg xmlns=\"http://www.w3.org/2000/svg\" height=\"24px\"viewBox=\"0 0 24 24\"\n",
              "       width=\"24px\">\n",
              "    <path d=\"M0 0h24v24H0V0z\" fill=\"none\"/>\n",
              "    <path d=\"M18.56 5.44l.94 2.06.94-2.06 2.06-.94-2.06-.94-.94-2.06-.94 2.06-2.06.94zm-11 1L8.5 8.5l.94-2.06 2.06-.94-2.06-.94L8.5 2.5l-.94 2.06-2.06.94zm10 10l.94 2.06.94-2.06 2.06-.94-2.06-.94-.94-2.06-.94 2.06-2.06.94z\"/><path d=\"M17.41 7.96l-1.37-1.37c-.4-.4-.92-.59-1.43-.59-.52 0-1.04.2-1.43.59L10.3 9.45l-7.72 7.72c-.78.78-.78 2.05 0 2.83L4 21.41c.39.39.9.59 1.41.59.51 0 1.02-.2 1.41-.59l7.78-7.78 2.81-2.81c.8-.78.8-2.07 0-2.86zM5.41 20L4 18.59l7.72-7.72 1.47 1.35L5.41 20z\"/>\n",
              "  </svg>\n",
              "      </button>\n",
              "      \n",
              "  <style>\n",
              "    .colab-df-container {\n",
              "      display:flex;\n",
              "      flex-wrap:wrap;\n",
              "      gap: 12px;\n",
              "    }\n",
              "\n",
              "    .colab-df-convert {\n",
              "      background-color: #E8F0FE;\n",
              "      border: none;\n",
              "      border-radius: 50%;\n",
              "      cursor: pointer;\n",
              "      display: none;\n",
              "      fill: #1967D2;\n",
              "      height: 32px;\n",
              "      padding: 0 0 0 0;\n",
              "      width: 32px;\n",
              "    }\n",
              "\n",
              "    .colab-df-convert:hover {\n",
              "      background-color: #E2EBFA;\n",
              "      box-shadow: 0px 1px 2px rgba(60, 64, 67, 0.3), 0px 1px 3px 1px rgba(60, 64, 67, 0.15);\n",
              "      fill: #174EA6;\n",
              "    }\n",
              "\n",
              "    [theme=dark] .colab-df-convert {\n",
              "      background-color: #3B4455;\n",
              "      fill: #D2E3FC;\n",
              "    }\n",
              "\n",
              "    [theme=dark] .colab-df-convert:hover {\n",
              "      background-color: #434B5C;\n",
              "      box-shadow: 0px 1px 3px 1px rgba(0, 0, 0, 0.15);\n",
              "      filter: drop-shadow(0px 1px 2px rgba(0, 0, 0, 0.3));\n",
              "      fill: #FFFFFF;\n",
              "    }\n",
              "  </style>\n",
              "\n",
              "      <script>\n",
              "        const buttonEl =\n",
              "          document.querySelector('#df-a2638c3d-9ae3-446f-8dcb-efcaf8b75c76 button.colab-df-convert');\n",
              "        buttonEl.style.display =\n",
              "          google.colab.kernel.accessAllowed ? 'block' : 'none';\n",
              "\n",
              "        async function convertToInteractive(key) {\n",
              "          const element = document.querySelector('#df-a2638c3d-9ae3-446f-8dcb-efcaf8b75c76');\n",
              "          const dataTable =\n",
              "            await google.colab.kernel.invokeFunction('convertToInteractive',\n",
              "                                                     [key], {});\n",
              "          if (!dataTable) return;\n",
              "\n",
              "          const docLinkHtml = 'Like what you see? Visit the ' +\n",
              "            '<a target=\"_blank\" href=https://colab.research.google.com/notebooks/data_table.ipynb>data table notebook</a>'\n",
              "            + ' to learn more about interactive tables.';\n",
              "          element.innerHTML = '';\n",
              "          dataTable['output_type'] = 'display_data';\n",
              "          await google.colab.output.renderOutput(dataTable, element);\n",
              "          const docLink = document.createElement('div');\n",
              "          docLink.innerHTML = docLinkHtml;\n",
              "          element.appendChild(docLink);\n",
              "        }\n",
              "      </script>\n",
              "    </div>\n",
              "  </div>\n",
              "  "
            ]
          },
          "metadata": {},
          "execution_count": 2
        }
      ]
    },
    {
      "cell_type": "code",
      "source": [
        "df.duplicated().sum()"
      ],
      "metadata": {
        "colab": {
          "base_uri": "https://localhost:8080/"
        },
        "id": "0PED7m42GBB6",
        "outputId": "a6aa771a-0264-4f62-8a4c-a0b767b28ffe"
      },
      "execution_count": 3,
      "outputs": [
        {
          "output_type": "execute_result",
          "data": {
            "text/plain": [
              "20"
            ]
          },
          "metadata": {},
          "execution_count": 3
        }
      ]
    },
    {
      "cell_type": "code",
      "source": [
        "df.drop_duplicates(inplace=True)"
      ],
      "metadata": {
        "id": "rLe2FqJ7GG88"
      },
      "execution_count": 4,
      "outputs": []
    },
    {
      "cell_type": "markdown",
      "source": [
        "#Splitting the Data"
      ],
      "metadata": {
        "id": "OMGDse6MGuUz"
      }
    },
    {
      "cell_type": "code",
      "source": [
        "X=df.drop(columns=['Divorce_Y_N'])\n",
        "y=df['Divorce_Y_N']\n",
        "X_train,X_test,y_train,y_test=train_test_split(X,y,random_state=42)"
      ],
      "metadata": {
        "id": "QHLRAQPNEwPr"
      },
      "execution_count": 9,
      "outputs": []
    },
    {
      "cell_type": "markdown",
      "source": [
        "#Decision Tree Model"
      ],
      "metadata": {
        "id": "juXVGOhbLA99"
      }
    },
    {
      "cell_type": "code",
      "source": [
        "from sklearn.tree import DecisionTreeClassifier\n",
        "dec_tree = DecisionTreeClassifier(criterion=\"entropy\")\n",
        "scaler=StandardScaler()\n",
        "dec_tree_pipe=make_pipeline(scaler,dec_tree)\n",
        "dec_tree_pipe.fit(X_train, y_train)"
      ],
      "metadata": {
        "colab": {
          "base_uri": "https://localhost:8080/"
        },
        "id": "4DH1ZOvhHFnQ",
        "outputId": "86a95481-4897-4546-8bdf-8bd3f9f79ef4"
      },
      "execution_count": 25,
      "outputs": [
        {
          "output_type": "execute_result",
          "data": {
            "text/plain": [
              "Pipeline(steps=[('standardscaler', StandardScaler()),\n",
              "                ('decisiontreeclassifier',\n",
              "                 DecisionTreeClassifier(criterion='entropy'))])"
            ]
          },
          "metadata": {},
          "execution_count": 25
        }
      ]
    },
    {
      "cell_type": "code",
      "source": [
        "predictions = dec_tree_pipe.predict(X_test)"
      ],
      "metadata": {
        "id": "38_T4Z-yH18I"
      },
      "execution_count": 26,
      "outputs": []
    },
    {
      "cell_type": "code",
      "source": [
        "def evaluate_classification(model, X_test, y_test, cmap='Greens',\n",
        "                            normalize='true', classes=None, figsize=(20,5)):\n",
        "  test_preds = model.predict(X_test)\n",
        "  print(metrics.classification_report(y_test, test_preds, target_names=classes))\n",
        "  \n",
        "  fig, ax = plt.subplots(ncols=3, figsize=figsize)\n",
        "  ConfusionMatrixDisplay.from_estimator(model, X_test, y_test, cmap=cmap,\n",
        "                                        display_labels=classes,\n",
        "                                        ax=ax[0])\n",
        "  \n",
        "  ConfusionMatrixDisplay.from_estimator(model, X_test, y_test, cmap=cmap,\n",
        "                                        display_labels=classes, normalize='true',\n",
        "                                        ax=ax[1])\n",
        "  \n",
        "  curve = metrics.plot_roc_curve(model, X_test, y_test, ax=ax[2])\n",
        "  curve.ax_.grid()\n",
        "  curve.ax_.plot([0, 1], [0, 1], ls=':')"
      ],
      "metadata": {
        "id": "W8osoC2EIQGH"
      },
      "execution_count": 27,
      "outputs": []
    },
    {
      "cell_type": "code",
      "source": [
        "evaluate_classification(dec_tree_pipe,X_test,y_test)"
      ],
      "metadata": {
        "colab": {
          "base_uri": "https://localhost:8080/",
          "height": 545
        },
        "id": "b5Sk0-k4Iml6",
        "outputId": "7edf3411-f094-4e6a-a8ec-fb48d7b30f7b"
      },
      "execution_count": 28,
      "outputs": [
        {
          "output_type": "stream",
          "name": "stdout",
          "text": [
            "              precision    recall  f1-score   support\n",
            "\n",
            "           0       0.94      0.94      0.94        18\n",
            "           1       0.95      0.95      0.95        20\n",
            "\n",
            "    accuracy                           0.95        38\n",
            "   macro avg       0.95      0.95      0.95        38\n",
            "weighted avg       0.95      0.95      0.95        38\n",
            "\n"
          ]
        },
        {
          "output_type": "stream",
          "name": "stderr",
          "text": [
            "/usr/local/lib/python3.7/dist-packages/sklearn/utils/deprecation.py:87: FutureWarning: Function plot_roc_curve is deprecated; Function :func:`plot_roc_curve` is deprecated in 1.0 and will be removed in 1.2. Use one of the class methods: :meth:`sklearn.metric.RocCurveDisplay.from_predictions` or :meth:`sklearn.metric.RocCurveDisplay.from_estimator`.\n",
            "  warnings.warn(msg, category=FutureWarning)\n"
          ]
        },
        {
          "output_type": "display_data",
          "data": {
            "text/plain": [
              "<Figure size 1440x360 with 5 Axes>"
            ],
            "image/png": "[encoded data removed]"
          },
          "metadata": {
            "needs_background": "light"
          }
        }
      ]
    },
    {
      "cell_type": "markdown",
      "source": [
        "#Logistic Regression Model"
      ],
      "metadata": {
        "id": "VPyfMzPNO4HM"
      }
    },
    {
      "cell_type": "code",
      "source": [
        "from sklearn.linear_model import LogisticRegression\n",
        "logreg = LogisticRegression()\n",
        "logreg_pipe=make_pipeline(scaler,logreg)\n",
        "logreg_pipe.fit(X_train, y_train)"
      ],
      "metadata": {
        "colab": {
          "base_uri": "https://localhost:8080/"
        },
        "id": "DR1woa04O_Eq",
        "outputId": "654e60ed-0c16-4e2d-aece-793f9cd707b6"
      },
      "execution_count": 51,
      "outputs": [
        {
          "output_type": "execute_result",
          "data": {
            "text/plain": [
              "Pipeline(steps=[('standardscaler', StandardScaler()),\n",
              "                ('logisticregression', LogisticRegression())])"
            ]
          },
          "metadata": {},
          "execution_count": 51
        }
      ]
    },
    {
      "cell_type": "code",
      "source": [
        "preds = logreg_pipe.predict(X_test)"
      ],
      "metadata": {
        "id": "5ks_Mn-rPK23"
      },
      "execution_count": 52,
      "outputs": []
    },
    {
      "cell_type": "code",
      "source": [
        "evaluate_classification(logreg_pipe, X_test, y_test)"
      ],
      "metadata": {
        "colab": {
          "base_uri": "https://localhost:8080/",
          "height": 549
        },
        "id": "hjl40Up9PNla",
        "outputId": "c38ea94d-6b6f-4891-d7a0-96d22b7b09ce"
      },
      "execution_count": 53,
      "outputs": [
        {
          "output_type": "stream",
          "name": "stdout",
          "text": [
            "              precision    recall  f1-score   support\n",
            "\n",
            "           0       1.00      1.00      1.00        18\n",
            "           1       1.00      1.00      1.00        20\n",
            "\n",
            "    accuracy                           1.00        38\n",
            "   macro avg       1.00      1.00      1.00        38\n",
            "weighted avg       1.00      1.00      1.00        38\n",
            "\n"
          ]
        },
        {
          "output_type": "stream",
          "name": "stderr",
          "text": [
            "/usr/local/lib/python3.7/dist-packages/sklearn/utils/deprecation.py:87: FutureWarning: Function plot_roc_curve is deprecated; Function :func:`plot_roc_curve` is deprecated in 1.0 and will be removed in 1.2. Use one of the class methods: :meth:`sklearn.metric.RocCurveDisplay.from_predictions` or :meth:`sklearn.metric.RocCurveDisplay.from_estimator`.\n",
            "  warnings.warn(msg, category=FutureWarning)\n"
          ]
        },
        {
          "output_type": "display_data",
          "data": {
            "text/plain": [
              "<Figure size 1440x360 with 5 Axes>"
            ],
            "image/png": "[encoded data removed]"
          },
          "metadata": {
            "needs_background": "light"
          }
        }
      ]
    }
  ]
}
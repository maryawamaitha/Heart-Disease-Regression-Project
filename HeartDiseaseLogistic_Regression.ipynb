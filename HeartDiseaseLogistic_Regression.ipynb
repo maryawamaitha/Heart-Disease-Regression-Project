{
  "nbformat": 4,
  "nbformat_minor": 0,
  "metadata": {
    "colab": {
      "name": "HeartDiseaseLogistic_Regression.ipynb",
      "provenance": [],
      "authorship_tag": "ABX9TyMM/iRnRFUfKTUBlHUQTLPc",
      "include_colab_link": true
    },
    "kernelspec": {
      "name": "python3",
      "display_name": "Python 3"
    },
    "language_info": {
      "name": "python"
    }
  },
  "cells": [
    {
      "cell_type": "markdown",
      "metadata": {
        "id": "view-in-github",
        "colab_type": "text"
      },
      "source": [
        "<a href=\"https://colab.research.google.com/github/maryawamaitha/MaryaData_Science-Projects-Portfolio/blob/main/HeartDiseaseLogistic_Regression.ipynb\" target=\"_parent\"><img src=\"https://colab.research.google.com/assets/colab-badge.svg\" alt=\"Open In Colab\"/></a>"
      ]
    },
    {
      "cell_type": "code",
      "execution_count": 80,
      "metadata": {
        "id": "UTEPRjqEdLH9"
      },
      "outputs": [],
      "source": [
        "import pandas as pd\n",
        "import seaborn as sns\n",
        "import matplotlib.pyplot as plt\n",
        "from sklearn.model_selection import train_test_split\n",
        "from sklearn.compose import make_column_selector\n",
        "from sklearn.preprocessing import StandardScaler\n",
        "from sklearn.pipeline import make_pipeline\n",
        "from sklearn.compose import make_column_transformer, make_column_selector\n",
        "from sklearn.impute import SimpleImputer\n",
        "from sklearn.linear_model import LogisticRegression\n",
        "from sklearn.metrics import accuracy_score,classification_report, confusion_matrix\n",
        "from sklearn import metrics"
      ]
    },
    {
      "cell_type": "code",
      "source": [
        "df=pd.read_csv('/content/framingham.csv')\n",
        "df.head()"
      ],
      "metadata": {
        "colab": {
          "base_uri": "https://localhost:8080/",
          "height": 270
        },
        "id": "SwwOc7ivdyv2",
        "outputId": "2ba65c1f-7ac3-43c4-b6f8-b1bf8444e06a"
      },
      "execution_count": 81,
      "outputs": [
        {
          "output_type": "execute_result",
          "data": {
            "text/plain": [
              "   male  age  education  currentSmoker  cigsPerDay  BPMeds  prevalentStroke  \\\n",
              "0     1   39        4.0              0         0.0     0.0                0   \n",
              "1     0   46        2.0              0         0.0     0.0                0   \n",
              "2     1   48        1.0              1        20.0     0.0                0   \n",
              "3     0   61        3.0              1        30.0     0.0                0   \n",
              "4     0   46        3.0              1        23.0     0.0                0   \n",
              "\n",
              "   prevalentHyp  diabetes  totChol  sysBP  diaBP    BMI  heartRate  glucose  \\\n",
              "0             0         0    195.0  106.0   70.0  26.97       80.0     77.0   \n",
              "1             0         0    250.0  121.0   81.0  28.73       95.0     76.0   \n",
              "2             0         0    245.0  127.5   80.0  25.34       75.0     70.0   \n",
              "3             1         0    225.0  150.0   95.0  28.58       65.0    103.0   \n",
              "4             0         0    285.0  130.0   84.0  23.10       85.0     85.0   \n",
              "\n",
              "   TenYearCHD  \n",
              "0           0  \n",
              "1           0  \n",
              "2           0  \n",
              "3           1  \n",
              "4           0  "
            ],
            "text/html": [
              "\n",
              "  <div id=\"df-9fdbe805-1f46-4c8b-8827-0ade63a5a5e7\">\n",
              "    <div class=\"colab-df-container\">\n",
              "      <div>\n",
              "<style scoped>\n",
              "    .dataframe tbody tr th:only-of-type {\n",
              "        vertical-align: middle;\n",
              "    }\n",
              "\n",
              "    .dataframe tbody tr th {\n",
              "        vertical-align: top;\n",
              "    }\n",
              "\n",
              "    .dataframe thead th {\n",
              "        text-align: right;\n",
              "    }\n",
              "</style>\n",
              "<table border=\"1\" class=\"dataframe\">\n",
              "  <thead>\n",
              "    <tr style=\"text-align: right;\">\n",
              "      <th></th>\n",
              "      <th>male</th>\n",
              "      <th>age</th>\n",
              "      <th>education</th>\n",
              "      <th>currentSmoker</th>\n",
              "      <th>cigsPerDay</th>\n",
              "      <th>BPMeds</th>\n",
              "      <th>prevalentStroke</th>\n",
              "      <th>prevalentHyp</th>\n",
              "      <th>diabetes</th>\n",
              "      <th>totChol</th>\n",
              "      <th>sysBP</th>\n",
              "      <th>diaBP</th>\n",
              "      <th>BMI</th>\n",
              "      <th>heartRate</th>\n",
              "      <th>glucose</th>\n",
              "      <th>TenYearCHD</th>\n",
              "    </tr>\n",
              "  </thead>\n",
              "  <tbody>\n",
              "    <tr>\n",
              "      <th>0</th>\n",
              "      <td>1</td>\n",
              "      <td>39</td>\n",
              "      <td>4.0</td>\n",
              "      <td>0</td>\n",
              "      <td>0.0</td>\n",
              "      <td>0.0</td>\n",
              "      <td>0</td>\n",
              "      <td>0</td>\n",
              "      <td>0</td>\n",
              "      <td>195.0</td>\n",
              "      <td>106.0</td>\n",
              "      <td>70.0</td>\n",
              "      <td>26.97</td>\n",
              "      <td>80.0</td>\n",
              "      <td>77.0</td>\n",
              "      <td>0</td>\n",
              "    </tr>\n",
              "    <tr>\n",
              "      <th>1</th>\n",
              "      <td>0</td>\n",
              "      <td>46</td>\n",
              "      <td>2.0</td>\n",
              "      <td>0</td>\n",
              "      <td>0.0</td>\n",
              "      <td>0.0</td>\n",
              "      <td>0</td>\n",
              "      <td>0</td>\n",
              "      <td>0</td>\n",
              "      <td>250.0</td>\n",
              "      <td>121.0</td>\n",
              "      <td>81.0</td>\n",
              "      <td>28.73</td>\n",
              "      <td>95.0</td>\n",
              "      <td>76.0</td>\n",
              "      <td>0</td>\n",
              "    </tr>\n",
              "    <tr>\n",
              "      <th>2</th>\n",
              "      <td>1</td>\n",
              "      <td>48</td>\n",
              "      <td>1.0</td>\n",
              "      <td>1</td>\n",
              "      <td>20.0</td>\n",
              "      <td>0.0</td>\n",
              "      <td>0</td>\n",
              "      <td>0</td>\n",
              "      <td>0</td>\n",
              "      <td>245.0</td>\n",
              "      <td>127.5</td>\n",
              "      <td>80.0</td>\n",
              "      <td>25.34</td>\n",
              "      <td>75.0</td>\n",
              "      <td>70.0</td>\n",
              "      <td>0</td>\n",
              "    </tr>\n",
              "    <tr>\n",
              "      <th>3</th>\n",
              "      <td>0</td>\n",
              "      <td>61</td>\n",
              "      <td>3.0</td>\n",
              "      <td>1</td>\n",
              "      <td>30.0</td>\n",
              "      <td>0.0</td>\n",
              "      <td>0</td>\n",
              "      <td>1</td>\n",
              "      <td>0</td>\n",
              "      <td>225.0</td>\n",
              "      <td>150.0</td>\n",
              "      <td>95.0</td>\n",
              "      <td>28.58</td>\n",
              "      <td>65.0</td>\n",
              "      <td>103.0</td>\n",
              "      <td>1</td>\n",
              "    </tr>\n",
              "    <tr>\n",
              "      <th>4</th>\n",
              "      <td>0</td>\n",
              "      <td>46</td>\n",
              "      <td>3.0</td>\n",
              "      <td>1</td>\n",
              "      <td>23.0</td>\n",
              "      <td>0.0</td>\n",
              "      <td>0</td>\n",
              "      <td>0</td>\n",
              "      <td>0</td>\n",
              "      <td>285.0</td>\n",
              "      <td>130.0</td>\n",
              "      <td>84.0</td>\n",
              "      <td>23.10</td>\n",
              "      <td>85.0</td>\n",
              "      <td>85.0</td>\n",
              "      <td>0</td>\n",
              "    </tr>\n",
              "  </tbody>\n",
              "</table>\n",
              "</div>\n",
              "      <button class=\"colab-df-convert\" onclick=\"convertToInteractive('df-9fdbe805-1f46-4c8b-8827-0ade63a5a5e7')\"\n",
              "              title=\"Convert this dataframe to an interactive table.\"\n",
              "              style=\"display:none;\">\n",
              "        \n",
              "  <svg xmlns=\"http://www.w3.org/2000/svg\" height=\"24px\"viewBox=\"0 0 24 24\"\n",
              "       width=\"24px\">\n",
              "    <path d=\"M0 0h24v24H0V0z\" fill=\"none\"/>\n",
              "    <path d=\"M18.56 5.44l.94 2.06.94-2.06 2.06-.94-2.06-.94-.94-2.06-.94 2.06-2.06.94zm-11 1L8.5 8.5l.94-2.06 2.06-.94-2.06-.94L8.5 2.5l-.94 2.06-2.06.94zm10 10l.94 2.06.94-2.06 2.06-.94-2.06-.94-.94-2.06-.94 2.06-2.06.94z\"/><path d=\"M17.41 7.96l-1.37-1.37c-.4-.4-.92-.59-1.43-.59-.52 0-1.04.2-1.43.59L10.3 9.45l-7.72 7.72c-.78.78-.78 2.05 0 2.83L4 21.41c.39.39.9.59 1.41.59.51 0 1.02-.2 1.41-.59l7.78-7.78 2.81-2.81c.8-.78.8-2.07 0-2.86zM5.41 20L4 18.59l7.72-7.72 1.47 1.35L5.41 20z\"/>\n",
              "  </svg>\n",
              "      </button>\n",
              "      \n",
              "  <style>\n",
              "    .colab-df-container {\n",
              "      display:flex;\n",
              "      flex-wrap:wrap;\n",
              "      gap: 12px;\n",
              "    }\n",
              "\n",
              "    .colab-df-convert {\n",
              "      background-color: #E8F0FE;\n",
              "      border: none;\n",
              "      border-radius: 50%;\n",
              "      cursor: pointer;\n",
              "      display: none;\n",
              "      fill: #1967D2;\n",
              "      height: 32px;\n",
              "      padding: 0 0 0 0;\n",
              "      width: 32px;\n",
              "    }\n",
              "\n",
              "    .colab-df-convert:hover {\n",
              "      background-color: #E2EBFA;\n",
              "      box-shadow: 0px 1px 2px rgba(60, 64, 67, 0.3), 0px 1px 3px 1px rgba(60, 64, 67, 0.15);\n",
              "      fill: #174EA6;\n",
              "    }\n",
              "\n",
              "    [theme=dark] .colab-df-convert {\n",
              "      background-color: #3B4455;\n",
              "      fill: #D2E3FC;\n",
              "    }\n",
              "\n",
              "    [theme=dark] .colab-df-convert:hover {\n",
              "      background-color: #434B5C;\n",
              "      box-shadow: 0px 1px 3px 1px rgba(0, 0, 0, 0.15);\n",
              "      filter: drop-shadow(0px 1px 2px rgba(0, 0, 0, 0.3));\n",
              "      fill: #FFFFFF;\n",
              "    }\n",
              "  </style>\n",
              "\n",
              "      <script>\n",
              "        const buttonEl =\n",
              "          document.querySelector('#df-9fdbe805-1f46-4c8b-8827-0ade63a5a5e7 button.colab-df-convert');\n",
              "        buttonEl.style.display =\n",
              "          google.colab.kernel.accessAllowed ? 'block' : 'none';\n",
              "\n",
              "        async function convertToInteractive(key) {\n",
              "          const element = document.querySelector('#df-9fdbe805-1f46-4c8b-8827-0ade63a5a5e7');\n",
              "          const dataTable =\n",
              "            await google.colab.kernel.invokeFunction('convertToInteractive',\n",
              "                                                     [key], {});\n",
              "          if (!dataTable) return;\n",
              "\n",
              "          const docLinkHtml = 'Like what you see? Visit the ' +\n",
              "            '<a target=\"_blank\" href=https://colab.research.google.com/notebooks/data_table.ipynb>data table notebook</a>'\n",
              "            + ' to learn more about interactive tables.';\n",
              "          element.innerHTML = '';\n",
              "          dataTable['output_type'] = 'display_data';\n",
              "          await google.colab.output.renderOutput(dataTable, element);\n",
              "          const docLink = document.createElement('div');\n",
              "          docLink.innerHTML = docLinkHtml;\n",
              "          element.appendChild(docLink);\n",
              "        }\n",
              "      </script>\n",
              "    </div>\n",
              "  </div>\n",
              "  "
            ]
          },
          "metadata": {},
          "execution_count": 81
        }
      ]
    },
    {
      "cell_type": "code",
      "source": [
        "df.shape"
      ],
      "metadata": {
        "colab": {
          "base_uri": "https://localhost:8080/"
        },
        "id": "4DmqCqT9ed19",
        "outputId": "14993b61-bcae-428e-bf6b-442ec289c021"
      },
      "execution_count": 82,
      "outputs": [
        {
          "output_type": "execute_result",
          "data": {
            "text/plain": [
              "(4238, 16)"
            ]
          },
          "metadata": {},
          "execution_count": 82
        }
      ]
    },
    {
      "cell_type": "code",
      "source": [
        "df.info()"
      ],
      "metadata": {
        "colab": {
          "base_uri": "https://localhost:8080/"
        },
        "id": "8rbwS7WOeYIJ",
        "outputId": "22c66961-aca2-4887-8b50-ebb0b4aeead7"
      },
      "execution_count": 83,
      "outputs": [
        {
          "output_type": "stream",
          "name": "stdout",
          "text": [
            "<class 'pandas.core.frame.DataFrame'>\n",
            "RangeIndex: 4238 entries, 0 to 4237\n",
            "Data columns (total 16 columns):\n",
            " #   Column           Non-Null Count  Dtype  \n",
            "---  ------           --------------  -----  \n",
            " 0   male             4238 non-null   int64  \n",
            " 1   age              4238 non-null   int64  \n",
            " 2   education        4133 non-null   float64\n",
            " 3   currentSmoker    4238 non-null   int64  \n",
            " 4   cigsPerDay       4209 non-null   float64\n",
            " 5   BPMeds           4185 non-null   float64\n",
            " 6   prevalentStroke  4238 non-null   int64  \n",
            " 7   prevalentHyp     4238 non-null   int64  \n",
            " 8   diabetes         4238 non-null   int64  \n",
            " 9   totChol          4188 non-null   float64\n",
            " 10  sysBP            4238 non-null   float64\n",
            " 11  diaBP            4238 non-null   float64\n",
            " 12  BMI              4219 non-null   float64\n",
            " 13  heartRate        4237 non-null   float64\n",
            " 14  glucose          3850 non-null   float64\n",
            " 15  TenYearCHD       4238 non-null   int64  \n",
            "dtypes: float64(9), int64(7)\n",
            "memory usage: 529.9 KB\n"
          ]
        }
      ]
    },
    {
      "cell_type": "markdown",
      "source": [
        "There are missing values in the datasets"
      ],
      "metadata": {
        "id": "43_TXIadeikM"
      }
    },
    {
      "cell_type": "markdown",
      "source": [
        "Showing the columns with missing values"
      ],
      "metadata": {
        "id": "LcY0vD-7gQgZ"
      }
    },
    {
      "cell_type": "code",
      "source": [
        "df.isna().sum()"
      ],
      "metadata": {
        "colab": {
          "base_uri": "https://localhost:8080/"
        },
        "id": "eT4qghrxe1Kh",
        "outputId": "f43b997e-a9d9-4324-886a-35d7a4e040ea"
      },
      "execution_count": 84,
      "outputs": [
        {
          "output_type": "execute_result",
          "data": {
            "text/plain": [
              "male                 0\n",
              "age                  0\n",
              "education          105\n",
              "currentSmoker        0\n",
              "cigsPerDay          29\n",
              "BPMeds              53\n",
              "prevalentStroke      0\n",
              "prevalentHyp         0\n",
              "diabetes             0\n",
              "totChol             50\n",
              "sysBP                0\n",
              "diaBP                0\n",
              "BMI                 19\n",
              "heartRate            1\n",
              "glucose            388\n",
              "TenYearCHD           0\n",
              "dtype: int64"
            ]
          },
          "metadata": {},
          "execution_count": 84
        }
      ]
    },
    {
      "cell_type": "markdown",
      "source": [
        "Looking at the numerical columns"
      ],
      "metadata": {
        "id": "Tkgy79xPg5yk"
      }
    },
    {
      "cell_type": "code",
      "source": [
        "df.describe()"
      ],
      "metadata": {
        "colab": {
          "base_uri": "https://localhost:8080/",
          "height": 364
        },
        "id": "8KRYKun3gXTg",
        "outputId": "fe4cb1fa-0043-4514-df74-df6f342ed0a6"
      },
      "execution_count": 85,
      "outputs": [
        {
          "output_type": "execute_result",
          "data": {
            "text/plain": [
              "              male          age    education  currentSmoker   cigsPerDay  \\\n",
              "count  4238.000000  4238.000000  4133.000000    4238.000000  4209.000000   \n",
              "mean      0.429212    49.584946     1.978950       0.494101     9.003089   \n",
              "std       0.495022     8.572160     1.019791       0.500024    11.920094   \n",
              "min       0.000000    32.000000     1.000000       0.000000     0.000000   \n",
              "25%       0.000000    42.000000     1.000000       0.000000     0.000000   \n",
              "50%       0.000000    49.000000     2.000000       0.000000     0.000000   \n",
              "75%       1.000000    56.000000     3.000000       1.000000    20.000000   \n",
              "max       1.000000    70.000000     4.000000       1.000000    70.000000   \n",
              "\n",
              "            BPMeds  prevalentStroke  prevalentHyp     diabetes      totChol  \\\n",
              "count  4185.000000      4238.000000   4238.000000  4238.000000  4188.000000   \n",
              "mean      0.029630         0.005899      0.310524     0.025720   236.721585   \n",
              "std       0.169584         0.076587      0.462763     0.158316    44.590334   \n",
              "min       0.000000         0.000000      0.000000     0.000000   107.000000   \n",
              "25%       0.000000         0.000000      0.000000     0.000000   206.000000   \n",
              "50%       0.000000         0.000000      0.000000     0.000000   234.000000   \n",
              "75%       0.000000         0.000000      1.000000     0.000000   263.000000   \n",
              "max       1.000000         1.000000      1.000000     1.000000   696.000000   \n",
              "\n",
              "             sysBP        diaBP          BMI    heartRate      glucose  \\\n",
              "count  4238.000000  4238.000000  4219.000000  4237.000000  3850.000000   \n",
              "mean    132.352407    82.893464    25.802008    75.878924    81.966753   \n",
              "std      22.038097    11.910850     4.080111    12.026596    23.959998   \n",
              "min      83.500000    48.000000    15.540000    44.000000    40.000000   \n",
              "25%     117.000000    75.000000    23.070000    68.000000    71.000000   \n",
              "50%     128.000000    82.000000    25.400000    75.000000    78.000000   \n",
              "75%     144.000000    89.875000    28.040000    83.000000    87.000000   \n",
              "max     295.000000   142.500000    56.800000   143.000000   394.000000   \n",
              "\n",
              "        TenYearCHD  \n",
              "count  4238.000000  \n",
              "mean      0.151958  \n",
              "std       0.359023  \n",
              "min       0.000000  \n",
              "25%       0.000000  \n",
              "50%       0.000000  \n",
              "75%       0.000000  \n",
              "max       1.000000  "
            ],
            "text/html": [
              "\n",
              "  <div id=\"df-0af9519b-ed12-4530-ad71-b2aa49d8119f\">\n",
              "    <div class=\"colab-df-container\">\n",
              "      <div>\n",
              "<style scoped>\n",
              "    .dataframe tbody tr th:only-of-type {\n",
              "        vertical-align: middle;\n",
              "    }\n",
              "\n",
              "    .dataframe tbody tr th {\n",
              "        vertical-align: top;\n",
              "    }\n",
              "\n",
              "    .dataframe thead th {\n",
              "        text-align: right;\n",
              "    }\n",
              "</style>\n",
              "<table border=\"1\" class=\"dataframe\">\n",
              "  <thead>\n",
              "    <tr style=\"text-align: right;\">\n",
              "      <th></th>\n",
              "      <th>male</th>\n",
              "      <th>age</th>\n",
              "      <th>education</th>\n",
              "      <th>currentSmoker</th>\n",
              "      <th>cigsPerDay</th>\n",
              "      <th>BPMeds</th>\n",
              "      <th>prevalentStroke</th>\n",
              "      <th>prevalentHyp</th>\n",
              "      <th>diabetes</th>\n",
              "      <th>totChol</th>\n",
              "      <th>sysBP</th>\n",
              "      <th>diaBP</th>\n",
              "      <th>BMI</th>\n",
              "      <th>heartRate</th>\n",
              "      <th>glucose</th>\n",
              "      <th>TenYearCHD</th>\n",
              "    </tr>\n",
              "  </thead>\n",
              "  <tbody>\n",
              "    <tr>\n",
              "      <th>count</th>\n",
              "      <td>4238.000000</td>\n",
              "      <td>4238.000000</td>\n",
              "      <td>4133.000000</td>\n",
              "      <td>4238.000000</td>\n",
              "      <td>4209.000000</td>\n",
              "      <td>4185.000000</td>\n",
              "      <td>4238.000000</td>\n",
              "      <td>4238.000000</td>\n",
              "      <td>4238.000000</td>\n",
              "      <td>4188.000000</td>\n",
              "      <td>4238.000000</td>\n",
              "      <td>4238.000000</td>\n",
              "      <td>4219.000000</td>\n",
              "      <td>4237.000000</td>\n",
              "      <td>3850.000000</td>\n",
              "      <td>4238.000000</td>\n",
              "    </tr>\n",
              "    <tr>\n",
              "      <th>mean</th>\n",
              "      <td>0.429212</td>\n",
              "      <td>49.584946</td>\n",
              "      <td>1.978950</td>\n",
              "      <td>0.494101</td>\n",
              "      <td>9.003089</td>\n",
              "      <td>0.029630</td>\n",
              "      <td>0.005899</td>\n",
              "      <td>0.310524</td>\n",
              "      <td>0.025720</td>\n",
              "      <td>236.721585</td>\n",
              "      <td>132.352407</td>\n",
              "      <td>82.893464</td>\n",
              "      <td>25.802008</td>\n",
              "      <td>75.878924</td>\n",
              "      <td>81.966753</td>\n",
              "      <td>0.151958</td>\n",
              "    </tr>\n",
              "    <tr>\n",
              "      <th>std</th>\n",
              "      <td>0.495022</td>\n",
              "      <td>8.572160</td>\n",
              "      <td>1.019791</td>\n",
              "      <td>0.500024</td>\n",
              "      <td>11.920094</td>\n",
              "      <td>0.169584</td>\n",
              "      <td>0.076587</td>\n",
              "      <td>0.462763</td>\n",
              "      <td>0.158316</td>\n",
              "      <td>44.590334</td>\n",
              "      <td>22.038097</td>\n",
              "      <td>11.910850</td>\n",
              "      <td>4.080111</td>\n",
              "      <td>12.026596</td>\n",
              "      <td>23.959998</td>\n",
              "      <td>0.359023</td>\n",
              "    </tr>\n",
              "    <tr>\n",
              "      <th>min</th>\n",
              "      <td>0.000000</td>\n",
              "      <td>32.000000</td>\n",
              "      <td>1.000000</td>\n",
              "      <td>0.000000</td>\n",
              "      <td>0.000000</td>\n",
              "      <td>0.000000</td>\n",
              "      <td>0.000000</td>\n",
              "      <td>0.000000</td>\n",
              "      <td>0.000000</td>\n",
              "      <td>107.000000</td>\n",
              "      <td>83.500000</td>\n",
              "      <td>48.000000</td>\n",
              "      <td>15.540000</td>\n",
              "      <td>44.000000</td>\n",
              "      <td>40.000000</td>\n",
              "      <td>0.000000</td>\n",
              "    </tr>\n",
              "    <tr>\n",
              "      <th>25%</th>\n",
              "      <td>0.000000</td>\n",
              "      <td>42.000000</td>\n",
              "      <td>1.000000</td>\n",
              "      <td>0.000000</td>\n",
              "      <td>0.000000</td>\n",
              "      <td>0.000000</td>\n",
              "      <td>0.000000</td>\n",
              "      <td>0.000000</td>\n",
              "      <td>0.000000</td>\n",
              "      <td>206.000000</td>\n",
              "      <td>117.000000</td>\n",
              "      <td>75.000000</td>\n",
              "      <td>23.070000</td>\n",
              "      <td>68.000000</td>\n",
              "      <td>71.000000</td>\n",
              "      <td>0.000000</td>\n",
              "    </tr>\n",
              "    <tr>\n",
              "      <th>50%</th>\n",
              "      <td>0.000000</td>\n",
              "      <td>49.000000</td>\n",
              "      <td>2.000000</td>\n",
              "      <td>0.000000</td>\n",
              "      <td>0.000000</td>\n",
              "      <td>0.000000</td>\n",
              "      <td>0.000000</td>\n",
              "      <td>0.000000</td>\n",
              "      <td>0.000000</td>\n",
              "      <td>234.000000</td>\n",
              "      <td>128.000000</td>\n",
              "      <td>82.000000</td>\n",
              "      <td>25.400000</td>\n",
              "      <td>75.000000</td>\n",
              "      <td>78.000000</td>\n",
              "      <td>0.000000</td>\n",
              "    </tr>\n",
              "    <tr>\n",
              "      <th>75%</th>\n",
              "      <td>1.000000</td>\n",
              "      <td>56.000000</td>\n",
              "      <td>3.000000</td>\n",
              "      <td>1.000000</td>\n",
              "      <td>20.000000</td>\n",
              "      <td>0.000000</td>\n",
              "      <td>0.000000</td>\n",
              "      <td>1.000000</td>\n",
              "      <td>0.000000</td>\n",
              "      <td>263.000000</td>\n",
              "      <td>144.000000</td>\n",
              "      <td>89.875000</td>\n",
              "      <td>28.040000</td>\n",
              "      <td>83.000000</td>\n",
              "      <td>87.000000</td>\n",
              "      <td>0.000000</td>\n",
              "    </tr>\n",
              "    <tr>\n",
              "      <th>max</th>\n",
              "      <td>1.000000</td>\n",
              "      <td>70.000000</td>\n",
              "      <td>4.000000</td>\n",
              "      <td>1.000000</td>\n",
              "      <td>70.000000</td>\n",
              "      <td>1.000000</td>\n",
              "      <td>1.000000</td>\n",
              "      <td>1.000000</td>\n",
              "      <td>1.000000</td>\n",
              "      <td>696.000000</td>\n",
              "      <td>295.000000</td>\n",
              "      <td>142.500000</td>\n",
              "      <td>56.800000</td>\n",
              "      <td>143.000000</td>\n",
              "      <td>394.000000</td>\n",
              "      <td>1.000000</td>\n",
              "    </tr>\n",
              "  </tbody>\n",
              "</table>\n",
              "</div>\n",
              "      <button class=\"colab-df-convert\" onclick=\"convertToInteractive('df-0af9519b-ed12-4530-ad71-b2aa49d8119f')\"\n",
              "              title=\"Convert this dataframe to an interactive table.\"\n",
              "              style=\"display:none;\">\n",
              "        \n",
              "  <svg xmlns=\"http://www.w3.org/2000/svg\" height=\"24px\"viewBox=\"0 0 24 24\"\n",
              "       width=\"24px\">\n",
              "    <path d=\"M0 0h24v24H0V0z\" fill=\"none\"/>\n",
              "    <path d=\"M18.56 5.44l.94 2.06.94-2.06 2.06-.94-2.06-.94-.94-2.06-.94 2.06-2.06.94zm-11 1L8.5 8.5l.94-2.06 2.06-.94-2.06-.94L8.5 2.5l-.94 2.06-2.06.94zm10 10l.94 2.06.94-2.06 2.06-.94-2.06-.94-.94-2.06-.94 2.06-2.06.94z\"/><path d=\"M17.41 7.96l-1.37-1.37c-.4-.4-.92-.59-1.43-.59-.52 0-1.04.2-1.43.59L10.3 9.45l-7.72 7.72c-.78.78-.78 2.05 0 2.83L4 21.41c.39.39.9.59 1.41.59.51 0 1.02-.2 1.41-.59l7.78-7.78 2.81-2.81c.8-.78.8-2.07 0-2.86zM5.41 20L4 18.59l7.72-7.72 1.47 1.35L5.41 20z\"/>\n",
              "  </svg>\n",
              "      </button>\n",
              "      \n",
              "  <style>\n",
              "    .colab-df-container {\n",
              "      display:flex;\n",
              "      flex-wrap:wrap;\n",
              "      gap: 12px;\n",
              "    }\n",
              "\n",
              "    .colab-df-convert {\n",
              "      background-color: #E8F0FE;\n",
              "      border: none;\n",
              "      border-radius: 50%;\n",
              "      cursor: pointer;\n",
              "      display: none;\n",
              "      fill: #1967D2;\n",
              "      height: 32px;\n",
              "      padding: 0 0 0 0;\n",
              "      width: 32px;\n",
              "    }\n",
              "\n",
              "    .colab-df-convert:hover {\n",
              "      background-color: #E2EBFA;\n",
              "      box-shadow: 0px 1px 2px rgba(60, 64, 67, 0.3), 0px 1px 3px 1px rgba(60, 64, 67, 0.15);\n",
              "      fill: #174EA6;\n",
              "    }\n",
              "\n",
              "    [theme=dark] .colab-df-convert {\n",
              "      background-color: #3B4455;\n",
              "      fill: #D2E3FC;\n",
              "    }\n",
              "\n",
              "    [theme=dark] .colab-df-convert:hover {\n",
              "      background-color: #434B5C;\n",
              "      box-shadow: 0px 1px 3px 1px rgba(0, 0, 0, 0.15);\n",
              "      filter: drop-shadow(0px 1px 2px rgba(0, 0, 0, 0.3));\n",
              "      fill: #FFFFFF;\n",
              "    }\n",
              "  </style>\n",
              "\n",
              "      <script>\n",
              "        const buttonEl =\n",
              "          document.querySelector('#df-0af9519b-ed12-4530-ad71-b2aa49d8119f button.colab-df-convert');\n",
              "        buttonEl.style.display =\n",
              "          google.colab.kernel.accessAllowed ? 'block' : 'none';\n",
              "\n",
              "        async function convertToInteractive(key) {\n",
              "          const element = document.querySelector('#df-0af9519b-ed12-4530-ad71-b2aa49d8119f');\n",
              "          const dataTable =\n",
              "            await google.colab.kernel.invokeFunction('convertToInteractive',\n",
              "                                                     [key], {});\n",
              "          if (!dataTable) return;\n",
              "\n",
              "          const docLinkHtml = 'Like what you see? Visit the ' +\n",
              "            '<a target=\"_blank\" href=https://colab.research.google.com/notebooks/data_table.ipynb>data table notebook</a>'\n",
              "            + ' to learn more about interactive tables.';\n",
              "          element.innerHTML = '';\n",
              "          dataTable['output_type'] = 'display_data';\n",
              "          await google.colab.output.renderOutput(dataTable, element);\n",
              "          const docLink = document.createElement('div');\n",
              "          docLink.innerHTML = docLinkHtml;\n",
              "          element.appendChild(docLink);\n",
              "        }\n",
              "      </script>\n",
              "    </div>\n",
              "  </div>\n",
              "  "
            ]
          },
          "metadata": {},
          "execution_count": 85
        }
      ]
    },
    {
      "cell_type": "code",
      "source": [
        "corr= df.corr()\n",
        "plt.figure(figsize=[6,6])\n",
        "sns.heatmap(corr,cmap='Greens');"
      ],
      "metadata": {
        "colab": {
          "base_uri": "https://localhost:8080/",
          "height": 447
        },
        "id": "YNHcjv0QhcTW",
        "outputId": "c8edbd5f-b862-4a40-a4f5-36f12a0fc5a8"
      },
      "execution_count": 86,
      "outputs": [
        {
          "output_type": "display_data",
          "data": {
            "text/plain": [
              "<Figure size 432x432 with 2 Axes>"
            ],
            "image/png": "[encoded data removed]"
          },
          "metadata": {
            "needs_background": "light"
          }
        }
      ]
    },
    {
      "cell_type": "markdown",
      "source": [
        "Based on the heatmap, there is a correlation between the cigs per Day and current Smoker\n",
        "- Relationshp between glucose and diabetes; \n",
        "- Relationship between sysBP and dialBP"
      ],
      "metadata": {
        "id": "zg-3fKN_kD-W"
      }
    },
    {
      "cell_type": "markdown",
      "source": [
        "#Prepare Data for Modelling"
      ],
      "metadata": {
        "id": "eEORDpa1lwSS"
      }
    },
    {
      "cell_type": "markdown",
      "source": [
        "The target in this dataset is to predict Ten Year CHD"
      ],
      "metadata": {
        "id": "VTyc5EMul5SW"
      }
    },
    {
      "cell_type": "code",
      "source": [
        "X=df.drop(columns='TenYearCHD')\n",
        "y=df['TenYearCHD']"
      ],
      "metadata": {
        "id": "MOdJ4suDlmCy"
      },
      "execution_count": 87,
      "outputs": []
    },
    {
      "cell_type": "code",
      "source": [
        "X_train, X_test, y_train, y_test = train_test_split(X, y, random_state=42, stratify=y)"
      ],
      "metadata": {
        "id": "1bDxLmT-mLvq"
      },
      "execution_count": 88,
      "outputs": []
    },
    {
      "cell_type": "markdown",
      "source": [
        "To show all columns that are Numerical variables"
      ],
      "metadata": {
        "id": "dlfj9r5HqrHw"
      }
    },
    {
      "cell_type": "code",
      "source": [
        "num_feat = make_column_selector(dtype_include = 'number')\n",
        "num_feat(X_train)"
      ],
      "metadata": {
        "colab": {
          "base_uri": "https://localhost:8080/"
        },
        "id": "YTj_HV3fotWA",
        "outputId": "671fa8af-9e7d-4a70-b505-0be694e15f42"
      },
      "execution_count": 89,
      "outputs": [
        {
          "output_type": "execute_result",
          "data": {
            "text/plain": [
              "['male',\n",
              " 'age',\n",
              " 'education',\n",
              " 'currentSmoker',\n",
              " 'cigsPerDay',\n",
              " 'BPMeds',\n",
              " 'prevalentStroke',\n",
              " 'prevalentHyp',\n",
              " 'diabetes',\n",
              " 'totChol',\n",
              " 'sysBP',\n",
              " 'diaBP',\n",
              " 'BMI',\n",
              " 'heartRate',\n",
              " 'glucose']"
            ]
          },
          "metadata": {},
          "execution_count": 89
        }
      ]
    },
    {
      "cell_type": "markdown",
      "source": [
        "- Since there are many missing values, simple imputer will be used to fill the missing values.\n",
        "- For the numerical values - since the Age column has missing values, using a mean would give unusual value such as '45.5', this cannot be someone's age. Hence the median strategy will be used"
      ],
      "metadata": {
        "id": "ldoq4zOPo5KM"
      }
    },
    {
      "cell_type": "code",
      "source": [
        "median_imputer = SimpleImputer(strategy='median')"
      ],
      "metadata": {
        "id": "FT1K5snYpEv4"
      },
      "execution_count": 90,
      "outputs": []
    },
    {
      "cell_type": "code",
      "source": [
        "scaler=StandardScaler()\n",
        "num_processor = make_pipeline(median_imputer, scaler)\n",
        "num_tuple = (num_processor, num_feat)"
      ],
      "metadata": {
        "id": "TEiOjr7rpI0U"
      },
      "execution_count": 91,
      "outputs": []
    },
    {
      "cell_type": "code",
      "source": [
        "col_transformer = make_column_transformer(num_tuple, remainder='passthrough')\n",
        "col_transformer"
      ],
      "metadata": {
        "colab": {
          "base_uri": "https://localhost:8080/"
        },
        "id": "9aP-9A5YpSkE",
        "outputId": "38c81736-ba0d-46d3-8e96-68aa146eb108"
      },
      "execution_count": 92,
      "outputs": [
        {
          "output_type": "execute_result",
          "data": {
            "text/plain": [
              "ColumnTransformer(remainder='passthrough',\n",
              "                  transformers=[('pipeline',\n",
              "                                 Pipeline(steps=[('simpleimputer',\n",
              "                                                  SimpleImputer(strategy='median')),\n",
              "                                                 ('standardscaler',\n",
              "                                                  StandardScaler())]),\n",
              "                                 <sklearn.compose._column_transformer.make_column_selector object at 0x7fa42557b7d0>)])"
            ]
          },
          "metadata": {},
          "execution_count": 92
        }
      ]
    },
    {
      "cell_type": "markdown",
      "source": [
        "#Logistic Regression Model"
      ],
      "metadata": {
        "id": "NycLCR7Gr8K4"
      }
    },
    {
      "cell_type": "code",
      "source": [
        "logreg = LogisticRegression()\n",
        "logreg_pipe = make_pipeline(col_transformer, logreg)\n",
        "\n",
        "logreg_pipe.fit(X_train,y_train)\n",
        "# predictions=logreg_pipe.predict(X_test)\n",
        "print('LogReg Accuracy score Training set:', logreg_pipe.score(X_train, y_train))\n",
        "print('LogReg Accuracy score Test set:',logreg_pipe.score(X_test, y_test))"
      ],
      "metadata": {
        "colab": {
          "base_uri": "https://localhost:8080/"
        },
        "id": "7_C5wcz1pggX",
        "outputId": "edd72f87-33b0-4ae5-b100-8490e54ed435"
      },
      "execution_count": 110,
      "outputs": [
        {
          "output_type": "stream",
          "name": "stdout",
          "text": [
            "LogReg Accuracy score Training set: 0.8574575204531152\n",
            "LogReg Accuracy score Test set: 0.8462264150943396\n"
          ]
        }
      ]
    },
    {
      "cell_type": "code",
      "source": [
        "logreg_pipe.get_params()"
      ],
      "metadata": {
        "colab": {
          "base_uri": "https://localhost:8080/"
        },
        "id": "7KQJNk_HtXcz",
        "outputId": "cfb0f196-376f-4fbe-a4d2-bc809e7c2c62"
      },
      "execution_count": 94,
      "outputs": [
        {
          "output_type": "execute_result",
          "data": {
            "text/plain": [
              "{'columntransformer': ColumnTransformer(remainder='passthrough',\n",
              "                   transformers=[('pipeline',\n",
              "                                  Pipeline(steps=[('simpleimputer',\n",
              "                                                   SimpleImputer(strategy='median')),\n",
              "                                                  ('standardscaler',\n",
              "                                                   StandardScaler())]),\n",
              "                                  <sklearn.compose._column_transformer.make_column_selector object at 0x7fa42557b7d0>)]),\n",
              " 'columntransformer__n_jobs': None,\n",
              " 'columntransformer__pipeline': Pipeline(steps=[('simpleimputer', SimpleImputer(strategy='median')),\n",
              "                 ('standardscaler', StandardScaler())]),\n",
              " 'columntransformer__pipeline__memory': None,\n",
              " 'columntransformer__pipeline__simpleimputer': SimpleImputer(strategy='median'),\n",
              " 'columntransformer__pipeline__simpleimputer__add_indicator': False,\n",
              " 'columntransformer__pipeline__simpleimputer__copy': True,\n",
              " 'columntransformer__pipeline__simpleimputer__fill_value': None,\n",
              " 'columntransformer__pipeline__simpleimputer__missing_values': nan,\n",
              " 'columntransformer__pipeline__simpleimputer__strategy': 'median',\n",
              " 'columntransformer__pipeline__simpleimputer__verbose': 0,\n",
              " 'columntransformer__pipeline__standardscaler': StandardScaler(),\n",
              " 'columntransformer__pipeline__standardscaler__copy': True,\n",
              " 'columntransformer__pipeline__standardscaler__with_mean': True,\n",
              " 'columntransformer__pipeline__standardscaler__with_std': True,\n",
              " 'columntransformer__pipeline__steps': [('simpleimputer',\n",
              "   SimpleImputer(strategy='median')),\n",
              "  ('standardscaler', StandardScaler())],\n",
              " 'columntransformer__pipeline__verbose': False,\n",
              " 'columntransformer__remainder': 'passthrough',\n",
              " 'columntransformer__sparse_threshold': 0.3,\n",
              " 'columntransformer__transformer_weights': None,\n",
              " 'columntransformer__transformers': [('pipeline',\n",
              "   Pipeline(steps=[('simpleimputer', SimpleImputer(strategy='median')),\n",
              "                   ('standardscaler', StandardScaler())]),\n",
              "   <sklearn.compose._column_transformer.make_column_selector at 0x7fa42557b7d0>)],\n",
              " 'columntransformer__verbose': False,\n",
              " 'columntransformer__verbose_feature_names_out': True,\n",
              " 'logisticregression': LogisticRegression(),\n",
              " 'logisticregression__C': 1.0,\n",
              " 'logisticregression__class_weight': None,\n",
              " 'logisticregression__dual': False,\n",
              " 'logisticregression__fit_intercept': True,\n",
              " 'logisticregression__intercept_scaling': 1,\n",
              " 'logisticregression__l1_ratio': None,\n",
              " 'logisticregression__max_iter': 100,\n",
              " 'logisticregression__multi_class': 'auto',\n",
              " 'logisticregression__n_jobs': None,\n",
              " 'logisticregression__penalty': 'l2',\n",
              " 'logisticregression__random_state': None,\n",
              " 'logisticregression__solver': 'lbfgs',\n",
              " 'logisticregression__tol': 0.0001,\n",
              " 'logisticregression__verbose': 0,\n",
              " 'logisticregression__warm_start': False,\n",
              " 'memory': None,\n",
              " 'steps': [('columntransformer', ColumnTransformer(remainder='passthrough',\n",
              "                     transformers=[('pipeline',\n",
              "                                    Pipeline(steps=[('simpleimputer',\n",
              "                                                     SimpleImputer(strategy='median')),\n",
              "                                                    ('standardscaler',\n",
              "                                                     StandardScaler())]),\n",
              "                                    <sklearn.compose._column_transformer.make_column_selector object at 0x7fa42557b7d0>)])),\n",
              "  ('logisticregression', LogisticRegression())],\n",
              " 'verbose': False}"
            ]
          },
          "metadata": {},
          "execution_count": 94
        }
      ]
    },
    {
      "cell_type": "code",
      "source": [
        "lg_params = {'logisticregression__penalty':['l2'],\n",
        "            'logisticregression__solver': ['lbfgs','liblinear'],\n",
        "             'logisticregression__C': [100, 500, 1000],\n",
        "              'logisticregression__random_state':[42]}"
      ],
      "metadata": {
        "id": "x23b8mBFtwyi"
      },
      "execution_count": 115,
      "outputs": []
    },
    {
      "cell_type": "code",
      "source": [
        "from sklearn.model_selection import GridSearchCV\n",
        "lg_gs = GridSearchCV(logreg_pipe, lg_params)\n",
        "\n",
        "lg_gs.fit(X_train, y_train)"
      ],
      "metadata": {
        "colab": {
          "base_uri": "https://localhost:8080/"
        },
        "id": "lo9v97Jwum-f",
        "outputId": "c4bb81d0-ecbe-4b77-f851-41f18868cbde"
      },
      "execution_count": 116,
      "outputs": [
        {
          "output_type": "execute_result",
          "data": {
            "text/plain": [
              "GridSearchCV(estimator=Pipeline(steps=[('columntransformer',\n",
              "                                        ColumnTransformer(remainder='passthrough',\n",
              "                                                          transformers=[('pipeline',\n",
              "                                                                         Pipeline(steps=[('simpleimputer',\n",
              "                                                                                          SimpleImputer(strategy='median')),\n",
              "                                                                                         ('standardscaler',\n",
              "                                                                                          StandardScaler())]),\n",
              "                                                                         <sklearn.compose._column_transformer.make_column_selector object at 0x7fa42557b7d0>)])),\n",
              "                                       ('logisticregression',\n",
              "                                        LogisticRegression())]),\n",
              "             param_grid={'logisticregression__C': [100, 500, 1000],\n",
              "                         'logisticregression__penalty': ['l2'],\n",
              "                         'logisticregression__random_state': [42],\n",
              "                         'logisticregression__solver': ['lbfgs', 'liblinear']})"
            ]
          },
          "metadata": {},
          "execution_count": 116
        }
      ]
    },
    {
      "cell_type": "code",
      "source": [
        "lg_gs.best_params_"
      ],
      "metadata": {
        "colab": {
          "base_uri": "https://localhost:8080/"
        },
        "id": "vCnFs_CMvBNV",
        "outputId": "bd3dfbda-2c43-4b37-d474-aff4d6982624"
      },
      "execution_count": 117,
      "outputs": [
        {
          "output_type": "execute_result",
          "data": {
            "text/plain": [
              "{'logisticregression__C': 100,\n",
              " 'logisticregression__penalty': 'l2',\n",
              " 'logisticregression__random_state': 42,\n",
              " 'logisticregression__solver': 'lbfgs'}"
            ]
          },
          "metadata": {},
          "execution_count": 117
        }
      ]
    },
    {
      "cell_type": "code",
      "source": [
        "print('The Best LogReg Accuracy score Test set:',accuracy_score(y_train, lg_gs.predict(X_train)))\n",
        "print('The Best LogReg Accuracy score Test set:',accuracy_score(y_test, lg_gs.predict(X_test)))"
      ],
      "metadata": {
        "colab": {
          "base_uri": "https://localhost:8080/"
        },
        "id": "ceYIZORCvHZ0",
        "outputId": "a11732d5-9ac5-41fd-b7ed-89313fd73214"
      },
      "execution_count": 120,
      "outputs": [
        {
          "output_type": "stream",
          "name": "stdout",
          "text": [
            "The Best LogReg Accuracy score Test set: 0.8574575204531152\n",
            "The Best LogReg Accuracy score Test set: 0.8462264150943396\n"
          ]
        }
      ]
    }
  ]
}